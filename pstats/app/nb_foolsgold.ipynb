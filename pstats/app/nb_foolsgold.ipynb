{
 "cells": [
  {
   "cell_type": "code",
   "execution_count": 1,
   "metadata": {},
   "outputs": [
    {
     "name": "stdout",
     "output_type": "stream",
     "text": [
      "1\n",
      "https://discord.com/api/webhooks/1318681820593913866/g-G8q1p7Cs477-SW8AyB4lt8nY6vawBH81zkYbK2iyCBrzLheXJ0_X8VBe6x57CYHZ4V\n"
     ]
    }
   ],
   "source": [
    "from foolsgold import b"
   ]
  },
  {
   "cell_type": "code",
   "execution_count": 4,
   "metadata": {},
   "outputs": [
    {
     "name": "stdout",
     "output_type": "stream",
     "text": [
      "Open price: 96672.2\n",
      "High price: 97417.8\n",
      "Low price: 96450\n",
      "Close price: 97333.4\n"
     ]
    }
   ],
   "source": [
    "bb = b.Bybit()\n",
    "bb.get_kline_data()"
   ]
  }
 ],
 "metadata": {
  "kernelspec": {
   "display_name": "env",
   "language": "python",
   "name": "python3"
  },
  "language_info": {
   "codemirror_mode": {
    "name": "ipython",
    "version": 3
   },
   "file_extension": ".py",
   "mimetype": "text/x-python",
   "name": "python",
   "nbconvert_exporter": "python",
   "pygments_lexer": "ipython3",
   "version": "3.12.7"
  }
 },
 "nbformat": 4,
 "nbformat_minor": 2
}
