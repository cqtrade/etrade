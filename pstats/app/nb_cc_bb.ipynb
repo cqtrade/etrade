{
 "cells": [
  {
   "cell_type": "code",
   "execution_count": 1,
   "metadata": {},
   "outputs": [],
   "source": [
    "from pybit.unified_trading import HTTP\n",
    "import pandas as pd\n",
    "from envvars import evars\n",
    "\n",
    "# Replace with your Bybit API key and secret\n",
    "api_key = evars.envdict['BB2_API_KEY']\n",
    "api_secret = evars.envdict['BB2_API_SECRET']\n"
   ]
  },
  {
   "cell_type": "code",
   "execution_count": 2,
   "metadata": {},
   "outputs": [
    {
     "name": "stdout",
     "output_type": "stream",
     "text": [
      "BTCUSDH25 BTCUSDT 2.25\n",
      "BTCUSDM25 BTCUSDT 5.4\n",
      "ETHUSDH25 ETHUSDT 2.3\n",
      "ETHUSDM25 ETHUSDT 5.03\n"
     ]
    }
   ],
   "source": [
    "# Create an HTTP session\n",
    "session = HTTP(testnet=False, api_key=api_key, api_secret=api_secret)\n",
    "\n",
    "# tickers_spot_res = session.get_tickers( category='spot')\n",
    "# if tickers_spot_res['retMsg'] == 'OK':\n",
    "#     for spot_ticker in tickers_spot_res['result']['list']:\n",
    "#         print(spot_ticker['symbol'])\n",
    "\n",
    "tickers_futures_res = session.get_tickers(category='inverse')\n",
    "if tickers_futures_res['retMsg'] == 'OK':\n",
    "    for futures_ticker in tickers_futures_res['result']['list']:\n",
    "        # print only tickers ending with number\n",
    "        if futures_ticker['symbol'][-1].isdigit():\n",
    "            # print(futures_ticker)\n",
    "            # print(futures_ticker['symbol'])\n",
    "            # get 6 first letters of the ticker and add T\n",
    "            ticker = futures_ticker['symbol'][:6] + 'T'\n",
    "            # print(ticker)\n",
    "            tickers_spot_res = session.get_tickers( category='spot', symbol=ticker)\n",
    "            spot_last_price = tickers_spot_res['result']['list'][0]['lastPrice']\n",
    "            # print(spot_last_price)\n",
    "            # get the diff between the last price and the index price percentage\n",
    "            # round with 2 decimals\n",
    "            diff = round((float(futures_ticker['lastPrice']) / float(spot_last_price) - 1)*100, 2)\n",
    "            print(futures_ticker['symbol'], ticker, diff)"
   ]
  }
 ],
 "metadata": {
  "kernelspec": {
   "display_name": "env",
   "language": "python",
   "name": "python3"
  },
  "language_info": {
   "codemirror_mode": {
    "name": "ipython",
    "version": 3
   },
   "file_extension": ".py",
   "mimetype": "text/x-python",
   "name": "python",
   "nbconvert_exporter": "python",
   "pygments_lexer": "ipython3",
   "version": "3.12.7"
  }
 },
 "nbformat": 4,
 "nbformat_minor": 2
}
