{
 "cells": [
  {
   "cell_type": "code",
   "execution_count": 1,
   "metadata": {},
   "outputs": [
    {
     "name": "stderr",
     "output_type": "stream",
     "text": [
      "/Users/sandermets/Projects/hobby/etrade/pstats/env/lib/python3.12/site-packages/telegram/utils/request.py:54: UserWarning: python-telegram-bot wasn't properly installed. Please refer to README.rst on how to properly install.\n",
      "  warnings.warn(\n"
     ]
    }
   ],
   "source": [
    "import vectorbt as vbt\n",
    "import pandas as pd\n",
    "from binance.cm_futures import CMFutures\n",
    "from binance.um_futures import UMFutures\n",
    "from binance.spot import Spot\n",
    "from pandas import DataFrame\n",
    "import pandas as pd"
   ]
  },
  {
   "cell_type": "code",
   "execution_count": 2,
   "metadata": {},
   "outputs": [],
   "source": [
    "symbols = [\n",
    "    \"BTCUSDT\",\n",
    "    \"ETHUSDT\",\n",
    "    \"SOLUSDT\",\n",
    "    \"BNBUSDT\",\n",
    "]\n",
    "\n",
    "start = '12 months ago UTC'\n",
    "end = 'now UTC'\n",
    "interval = '1h'"
   ]
  },
  {
   "cell_type": "code",
   "execution_count": 3,
   "metadata": {},
   "outputs": [
    {
     "data": {
      "application/vnd.jupyter.widget-view+json": {
       "model_id": "0d7500c2413e473a99b5ee0fa1595c1f",
       "version_major": 2,
       "version_minor": 0
      },
      "text/plain": [
       "0it [00:00, ?it/s]"
      ]
     },
     "metadata": {},
     "output_type": "display_data"
    },
    {
     "data": {
      "application/vnd.jupyter.widget-view+json": {
       "model_id": "fecc68e4a85c4e308a1204e584b1a86b",
       "version_major": 2,
       "version_minor": 0
      },
      "text/plain": [
       "0it [00:00, ?it/s]"
      ]
     },
     "metadata": {},
     "output_type": "display_data"
    },
    {
     "data": {
      "application/vnd.jupyter.widget-view+json": {
       "model_id": "63ff37fcd95542fba156cf18a3284de1",
       "version_major": 2,
       "version_minor": 0
      },
      "text/plain": [
       "0it [00:00, ?it/s]"
      ]
     },
     "metadata": {},
     "output_type": "display_data"
    },
    {
     "data": {
      "application/vnd.jupyter.widget-view+json": {
       "model_id": "b2633b65ad0446c3b5fcb07655037f1b",
       "version_major": 2,
       "version_minor": 0
      },
      "text/plain": [
       "0it [00:00, ?it/s]"
      ]
     },
     "metadata": {},
     "output_type": "display_data"
    }
   ],
   "source": [
    "for symbol in symbols:\n",
    "    binance_data = vbt.BinanceData.download(\n",
    "        symbol,\n",
    "        start=start,\n",
    "        end=end,\n",
    "        interval=interval\n",
    "    )\n",
    "\n",
    "    closes = binance_data.get('Close')\n",
    "    opens = binance_data.get('Open')\n",
    "    highs = binance_data.get('High')\n",
    "    lows = binance_data.get('Low')\n",
    "    volumes = binance_data.get('Volume')\n",
    "    df = pd.concat([closes, opens, highs, lows, volumes], axis=1)\n",
    "    # make columns names lowercase\n",
    "    df.columns = df.columns.str.lower()\n",
    "    # rename index to timestamp\n",
    "    df.index.name = 'timestamp'\n",
    "    df.to_csv('../pdata/' + symbol + '_' + interval + '.csv')"
   ]
  }
 ],
 "metadata": {
  "kernelspec": {
   "display_name": "env",
   "language": "python",
   "name": "python3"
  },
  "language_info": {
   "codemirror_mode": {
    "name": "ipython",
    "version": 3
   },
   "file_extension": ".py",
   "mimetype": "text/x-python",
   "name": "python",
   "nbconvert_exporter": "python",
   "pygments_lexer": "ipython3",
   "version": "3.12.7"
  }
 },
 "nbformat": 4,
 "nbformat_minor": 2
}
