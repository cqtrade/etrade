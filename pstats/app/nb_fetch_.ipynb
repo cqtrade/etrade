{
 "cells": [
  {
   "cell_type": "code",
   "execution_count": null,
   "metadata": {},
   "outputs": [],
   "source": [
    "import vectorbt as vbt\n",
    "import pandas as pd\n",
    "# from binance.cm_futures import CMFutures\n",
    "# from binance.um_futures import UMFutures\n",
    "# from binance.spot import Spot\n",
    "# from pandas import DataFrame\n",
    "# import pandas as pd"
   ]
  },
  {
   "cell_type": "code",
   "execution_count": null,
   "metadata": {},
   "outputs": [],
   "source": [
    "symbols = [\n",
    "    \"BTCUSDT\",\n",
    "    \"ETHUSDT\",\n",
    "    \"XRPUSDT\",\n",
    "    \"SOLUSDT\",\n",
    "    \"BNBUSDT\",\n",
    "    \"DOGEUSDT\",\n",
    "    \"ADAUSDT\",\n",
    "    \"LINKUSDT\",\n",
    "    \"AVAXUSDT\",\n",
    "    \"SUIUSDT\",\n",
    "    \"SHIBUSDT\",\n",
    "    \"LTCUSDT\",\n",
    "    \"HBARUSDT\",\n",
    "    \"RENDERUSDT\",\n",
    "    \"UNIUSDT\",\n",
    "]\n",
    "\n",
    "start = '12 months ago UTC'\n",
    "end = 'now UTC'\n",
    "interval = '1h'"
   ]
  },
  {
   "cell_type": "code",
   "execution_count": null,
   "metadata": {},
   "outputs": [],
   "source": [
    "for symbol in symbols:\n",
    "    binance_data = vbt.BinanceData.download(\n",
    "        symbol,\n",
    "        start=start,\n",
    "        end=end,\n",
    "        interval=interval\n",
    "    )\n",
    "\n",
    "    closes = binance_data.get('Close')\n",
    "    opens = binance_data.get('Open')\n",
    "    highs = binance_data.get('High')\n",
    "    lows = binance_data.get('Low')\n",
    "    volumes = binance_data.get('Volume')\n",
    "    df = pd.concat([closes, opens, highs, lows, volumes], axis=1)\n",
    "    # make columns names lowercase\n",
    "    df.columns = df.columns.str.lower()\n",
    "    # rename index to timestamp\n",
    "    df.index.name = 'timestamp'\n",
    "    df.to_csv('../pdata/' + symbol + '_' + interval + '.csv')"
   ]
  }
 ],
 "metadata": {
  "kernelspec": {
   "display_name": "env",
   "language": "python",
   "name": "python3"
  },
  "language_info": {
   "codemirror_mode": {
    "name": "ipython",
    "version": 3
   },
   "file_extension": ".py",
   "mimetype": "text/x-python",
   "name": "python",
   "nbconvert_exporter": "python",
   "pygments_lexer": "ipython3",
   "version": "3.12.7"
  }
 },
 "nbformat": 4,
 "nbformat_minor": 2
}
