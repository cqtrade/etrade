{
 "cells": [
  {
   "cell_type": "code",
   "execution_count": 1,
   "metadata": {},
   "outputs": [
    {
     "name": "stderr",
     "output_type": "stream",
     "text": [
      "/Users/sandermets/Projects/hobby/etrade/pstats/env/lib/python3.12/site-packages/telegram/utils/request.py:54: UserWarning: python-telegram-bot wasn't properly installed. Please refer to README.rst on how to properly install.\n",
      "  warnings.warn(\n"
     ]
    }
   ],
   "source": [
    "import vectorbt as vbt\n",
    "import pandas as pd\n",
    "from binance.cm_futures import CMFutures\n",
    "from binance.um_futures import UMFutures\n",
    "from binance.spot import Spot\n",
    "from pandas import DataFrame\n",
    "import pandas as pd"
   ]
  },
  {
   "cell_type": "code",
   "execution_count": 2,
   "metadata": {},
   "outputs": [],
   "source": [
    "symbols = [\n",
    "    \"BTCUSDT\",\n",
    "    \"ETHUSDT\",\n",
    "]\n",
    "\n",
    "start = '2 years ago UTC'\n",
    "end = 'now UTC'\n",
    "interval = '1m'"
   ]
  },
  {
   "cell_type": "code",
   "execution_count": null,
   "metadata": {},
   "outputs": [
    {
     "data": {
      "application/vnd.jupyter.widget-view+json": {
       "model_id": "460b683024834f9cb9c7b5197293fb8e",
       "version_major": 2,
       "version_minor": 0
      },
      "text/plain": [
       "0it [00:00, ?it/s]"
      ]
     },
     "metadata": {},
     "output_type": "display_data"
    },
    {
     "data": {
      "application/vnd.jupyter.widget-view+json": {
       "model_id": "34b5690c3d8041ed868bb5f599ed71a3",
       "version_major": 2,
       "version_minor": 0
      },
      "text/plain": [
       "0it [00:00, ?it/s]"
      ]
     },
     "metadata": {},
     "output_type": "display_data"
    }
   ],
   "source": [
    "for symbol in symbols:\n",
    "    binance_data = vbt.BinanceData.download(\n",
    "        symbol,\n",
    "        start=start,\n",
    "        end=end,\n",
    "        interval=interval\n",
    "    )\n",
    "\n",
    "    closes = binance_data.get('Close')\n",
    "    opens = binance_data.get('Open')\n",
    "    highs = binance_data.get('High')\n",
    "    lows = binance_data.get('Low')\n",
    "    volumes = binance_data.get('Volume')\n",
    "    df = pd.concat([closes, opens, highs, lows, volumes], axis=1)\n",
    "    # make columns names lowercase\n",
    "    df.columns = df.columns.str.lower()\n",
    "    # rename index to timestamp\n",
    "    df.index.name = 'timestamp'\n",
    "    df.to_csv('../../data/' + symbol + '_' + interval + '.csv')"
   ]
  }
 ],
 "metadata": {
  "kernelspec": {
   "display_name": "env",
   "language": "python",
   "name": "python3"
  },
  "language_info": {
   "codemirror_mode": {
    "name": "ipython",
    "version": 3
   },
   "file_extension": ".py",
   "mimetype": "text/x-python",
   "name": "python",
   "nbconvert_exporter": "python",
   "pygments_lexer": "ipython3",
   "version": "3.12.7"
  }
 },
 "nbformat": 4,
 "nbformat_minor": 2
}
