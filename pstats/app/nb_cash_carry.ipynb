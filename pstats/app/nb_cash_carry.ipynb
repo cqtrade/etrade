{
 "cells": [
  {
   "cell_type": "code",
   "execution_count": 1,
   "metadata": {},
   "outputs": [],
   "source": [
    "from binance.cm_futures import CMFutures\n",
    "from binance.um_futures import UMFutures\n",
    "from binance.spot import Spot\n",
    "from pandas import DataFrame\n",
    "\n",
    "spot_client = Spot()\n",
    "cm_futures_client = CMFutures() # settled in cryptocurrency\n",
    "um_futures_client = UMFutures() # settled in USDT USDC\n"
   ]
  },
  {
   "cell_type": "markdown",
   "metadata": {},
   "source": []
  },
  {
   "cell_type": "code",
   "execution_count": 2,
   "metadata": {},
   "outputs": [
    {
     "data": {
      "text/html": [
       "<div>\n",
       "<style scoped>\n",
       "    .dataframe tbody tr th:only-of-type {\n",
       "        vertical-align: middle;\n",
       "    }\n",
       "\n",
       "    .dataframe tbody tr th {\n",
       "        vertical-align: top;\n",
       "    }\n",
       "\n",
       "    .dataframe thead th {\n",
       "        text-align: right;\n",
       "    }\n",
       "</style>\n",
       "<table border=\"1\" class=\"dataframe\">\n",
       "  <thead>\n",
       "    <tr style=\"text-align: right;\">\n",
       "      <th></th>\n",
       "      <th>symbol</th>\n",
       "      <th>price</th>\n",
       "    </tr>\n",
       "  </thead>\n",
       "  <tbody>\n",
       "    <tr>\n",
       "      <th>0</th>\n",
       "      <td>ETHBTC</td>\n",
       "      <td>0.03568000</td>\n",
       "    </tr>\n",
       "    <tr>\n",
       "      <th>1</th>\n",
       "      <td>LTCBTC</td>\n",
       "      <td>0.00106200</td>\n",
       "    </tr>\n",
       "    <tr>\n",
       "      <th>2</th>\n",
       "      <td>BNBBTC</td>\n",
       "      <td>0.00765300</td>\n",
       "    </tr>\n",
       "    <tr>\n",
       "      <th>3</th>\n",
       "      <td>NEOBTC</td>\n",
       "      <td>0.00015500</td>\n",
       "    </tr>\n",
       "    <tr>\n",
       "      <th>4</th>\n",
       "      <td>QTUMETH</td>\n",
       "      <td>0.00096500</td>\n",
       "    </tr>\n",
       "    <tr>\n",
       "      <th>...</th>\n",
       "      <td>...</td>\n",
       "      <td>...</td>\n",
       "    </tr>\n",
       "    <tr>\n",
       "      <th>2867</th>\n",
       "      <td>USUALBTC</td>\n",
       "      <td>0.00001136</td>\n",
       "    </tr>\n",
       "    <tr>\n",
       "      <th>2868</th>\n",
       "      <td>USUALFDUSD</td>\n",
       "      <td>1.07760000</td>\n",
       "    </tr>\n",
       "    <tr>\n",
       "      <th>2869</th>\n",
       "      <td>USUALTRY</td>\n",
       "      <td>38.07000000</td>\n",
       "    </tr>\n",
       "    <tr>\n",
       "      <th>2870</th>\n",
       "      <td>1000CATUSDC</td>\n",
       "      <td>0.03647000</td>\n",
       "    </tr>\n",
       "    <tr>\n",
       "      <th>2871</th>\n",
       "      <td>PENGUUSDC</td>\n",
       "      <td>0.03572100</td>\n",
       "    </tr>\n",
       "  </tbody>\n",
       "</table>\n",
       "<p>2872 rows × 2 columns</p>\n",
       "</div>"
      ],
      "text/plain": [
       "           symbol        price\n",
       "0          ETHBTC   0.03568000\n",
       "1          LTCBTC   0.00106200\n",
       "2          BNBBTC   0.00765300\n",
       "3          NEOBTC   0.00015500\n",
       "4         QTUMETH   0.00096500\n",
       "...           ...          ...\n",
       "2867     USUALBTC   0.00001136\n",
       "2868   USUALFDUSD   1.07760000\n",
       "2869     USUALTRY  38.07000000\n",
       "2870  1000CATUSDC   0.03647000\n",
       "2871    PENGUUSDC   0.03572100\n",
       "\n",
       "[2872 rows x 2 columns]"
      ]
     },
     "execution_count": 2,
     "metadata": {},
     "output_type": "execute_result"
    }
   ],
   "source": [
    "# get server time\n",
    "spot_prices = spot_client.ticker_price()\n",
    "# create df\n",
    "spot_prices_df = DataFrame(spot_prices)\n",
    "spot_prices_df"
   ]
  },
  {
   "cell_type": "code",
   "execution_count": 3,
   "metadata": {},
   "outputs": [
    {
     "data": {
      "text/plain": [
       "array(['LINK', 'DOT', 'XRP', 'ETH', 'XRP', 'ADA', 'LTC', 'ETH', 'BTC',\n",
       "       'DOT', 'BCH', 'BTC', 'BNB', 'LTC', 'SOL', 'LINK', 'BCH', 'SOL',\n",
       "       'ADA', 'BNB'], dtype=object)"
      ]
     },
     "execution_count": 3,
     "metadata": {},
     "output_type": "execute_result"
    }
   ],
   "source": [
    "cm_futures_prices = cm_futures_client.ticker_price()\n",
    "cm_futures_prices_df = DataFrame(cm_futures_prices)\n",
    "cm_futures_prices_df\n",
    "# filter all symbols that end with number\n",
    "cm_futures_prices_df_n = cm_futures_prices_df[cm_futures_prices_df.symbol.str.contains(r'\\d$')]\n",
    "cm_futures_prices_df_n['symbol'].values\n",
    "# split all values by usd and leav ethe first part\n",
    "cm_futures_prices_df_n['symbol'].str.split('USD').str[0].values"
   ]
  },
  {
   "cell_type": "code",
   "execution_count": 4,
   "metadata": {},
   "outputs": [],
   "source": [
    "# um_futures_prices = um_futures_client.ticker_price()\n",
    "# um_futures_prices_df = DataFrame(um_futures_prices)\n",
    "# um_futures_prices_df"
   ]
  },
  {
   "cell_type": "code",
   "execution_count": 5,
   "metadata": {},
   "outputs": [
    {
     "name": "stdout",
     "output_type": "stream",
     "text": [
      "           symbol      ps    price           time\n",
      "18  BTCUSD_250328  BTCUSD  98124.8  1735409291282\n",
      "BTCUSD_250328\n",
      "     symbol           price\n",
      "11  BTCUSDT  95023.79000000\n",
      "3.263403827609917\n"
     ]
    }
   ],
   "source": [
    "def cash_and_carry(spot_price, futures_price, interest_rate, days_to_expiry):\n",
    "    return (futures_price - spot_price) / spot_price * 365 / days_to_expiry - interest_rate\n",
    "\n",
    "# from cm_futures_prices_df get all tickers containing \"BTC\"\n",
    "btc_cm_futures_prices_df = cm_futures_prices_df[cm_futures_prices_df['symbol'].str.contains(\"BTC\")]\n",
    "# print the row ith the highest price\n",
    "btc_cm_futures_prices_df_max = btc_cm_futures_prices_df[btc_cm_futures_prices_df['price'] == btc_cm_futures_prices_df['price'].max()]\n",
    "print(btc_cm_futures_prices_df_max)\n",
    "print(btc_cm_futures_prices_df_max['symbol'].values[0])\n",
    "max_price = float(btc_cm_futures_prices_df['price'].max())\n",
    "btc_spot_prices_df = spot_prices_df[spot_prices_df['symbol'] == \"BTCUSDT\"]\n",
    "print(btc_spot_prices_df)\n",
    "spot_price = float(btc_spot_prices_df['price'].values[0])\n",
    "# Get the difference between the max price and the spot price percentage\n",
    "percentage = ((max_price - spot_price) / spot_price) * 100\n",
    "print(percentage)"
   ]
  },
  {
   "cell_type": "code",
   "execution_count": 1,
   "metadata": {},
   "outputs": [
    {
     "ename": "NameError",
     "evalue": "name 'cm_futures_client' is not defined",
     "output_type": "error",
     "traceback": [
      "\u001b[0;31m---------------------------------------------------------------------------\u001b[0m",
      "\u001b[0;31mNameError\u001b[0m                                 Traceback (most recent call last)",
      "Cell \u001b[0;32mIn[1], line 18\u001b[0m\n\u001b[1;32m     14\u001b[0m     \u001b[38;5;66;03m# rount to 2 decimal places\u001b[39;00m\n\u001b[1;32m     15\u001b[0m     \u001b[38;5;28;01mreturn\u001b[39;00m btc_cm_futures_prices_df_max[\u001b[38;5;124m'\u001b[39m\u001b[38;5;124msymbol\u001b[39m\u001b[38;5;124m'\u001b[39m]\u001b[38;5;241m.\u001b[39mvalues[\u001b[38;5;241m0\u001b[39m], \u001b[38;5;28mround\u001b[39m(percentage, \u001b[38;5;241m2\u001b[39m)\n\u001b[0;32m---> 18\u001b[0m cm_futures_prices \u001b[38;5;241m=\u001b[39m \u001b[43mcm_futures_client\u001b[49m\u001b[38;5;241m.\u001b[39mticker_price()\n\u001b[1;32m     19\u001b[0m cm_futures_prices_df \u001b[38;5;241m=\u001b[39m DataFrame(cm_futures_prices)\n\u001b[1;32m     20\u001b[0m cm_futures_prices_df\n",
      "\u001b[0;31mNameError\u001b[0m: name 'cm_futures_client' is not defined"
     ]
    }
   ],
   "source": [
    "def future_premium(cm_futures_prices_df, spot_prices_df, symbol):\n",
    "    # from cm_futures_prices_df get all tickers containing \"BTC\"\n",
    "    btc_cm_futures_prices_df = cm_futures_prices_df[cm_futures_prices_df['symbol'].str.contains(\n",
    "        symbol)]\n",
    "    # print the row ith the highest price\n",
    "    btc_cm_futures_prices_df_max = btc_cm_futures_prices_df[\n",
    "        btc_cm_futures_prices_df['price'] == btc_cm_futures_prices_df['price'].max()]\n",
    "    max_price = float(btc_cm_futures_prices_df['price'].max())\n",
    "    btc_spot_prices_df = spot_prices_df[spot_prices_df['symbol'] == f\"{\n",
    "        symbol}USDT\"]\n",
    "    spot_price = float(btc_spot_prices_df['price'].values[0])\n",
    "    # Get the difference between the max price and the spot price percentage\n",
    "    percentage = (((max_price - spot_price) / spot_price) * 100) # - 0.4 # 0.4 is the tx fee\n",
    "    # rount to 2 decimal places\n",
    "    return btc_cm_futures_prices_df_max['symbol'].values[0], round(percentage, 2)\n",
    "\n",
    "\n",
    "cm_futures_prices = cm_futures_client.ticker_price()\n",
    "cm_futures_prices_df = DataFrame(cm_futures_prices)\n",
    "cm_futures_prices_df\n",
    "# filter all symbols that end with number\n",
    "cm_futures_prices_df_n = cm_futures_prices_df[cm_futures_prices_df.symbol.str.contains(\n",
    "    r'\\d$')]\n",
    "cm_futures_prices_df_n['symbol'].values\n",
    "# split all values by usd and leave the first part\n",
    "symbols = cm_futures_prices_df_n['symbol'].str.split('USD').str[0].values\n",
    "\n",
    "# create empty dataframe\n",
    "df_ = DataFrame(columns=['symbol', 'percentage'])\n",
    "for symbol in symbols:\n",
    "    s, p = future_premium(cm_futures_prices_df, spot_prices_df, symbol)\n",
    "    # append to the dataframe\n",
    "    df_ = df_._append({'symbol': s, 'percentage': p}, ignore_index=True)\n",
    "    \n",
    "# sort dataframe by percentage descending\n",
    "df_ = df_.sort_values(by='percentage', ascending=False)\n",
    "# remove duplicates\n",
    "df_ = df_.drop_duplicates()\n",
    "# reset index\n",
    "df_ = df_.reset_index(drop=True)\n",
    "df_\n",
    "df_.to_markdown()"
   ]
  }
 ],
 "metadata": {
  "kernelspec": {
   "display_name": "env",
   "language": "python",
   "name": "python3"
  },
  "language_info": {
   "codemirror_mode": {
    "name": "ipython",
    "version": 3
   },
   "file_extension": ".py",
   "mimetype": "text/x-python",
   "name": "python",
   "nbconvert_exporter": "python",
   "pygments_lexer": "ipython3",
   "version": "3.12.7"
  }
 },
 "nbformat": 4,
 "nbformat_minor": 2
}
